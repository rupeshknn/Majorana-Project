{
 "cells": [
  {
   "cell_type": "code",
   "execution_count": 1,
   "metadata": {},
   "outputs": [],
   "source": [
    "import os\n",
    "import numpy as np\n",
    "import matplotlib.pyplot as plt\n",
    "import helper"
   ]
  },
  {
   "cell_type": "code",
   "execution_count": 2,
   "metadata": {},
   "outputs": [],
   "source": [
    "# path to parameter.csv\n",
    "PARAMETER_PATH = \"parameter.csv\"\n",
    "# path to data directory\n",
    "EXPERIMENTAL_PATH = \"exp_data\\\\opening_parity_1\\\\\"\n",
    "# path to chi directory\n",
    "NRG_PATH = \"chi\\\\\"\n",
    "\n",
    "EXPERIMENTAL_BOOL = True\n",
    "LEGEND = True\n",
    "X_LABEL = True\n",
    "Y_LABEL = True\n",
    "X_COMMON = False\n",
    "Y_COMMON = False\n",
    "SAVE = False\n",
    "FORMAT = 'pdf' # 'svg','png'"
   ]
  },
  {
   "cell_type": "code",
   "execution_count": 3,
   "metadata": {},
   "outputs": [],
   "source": [
    "CHOOSE_DATA_SETS = (0,1,2,3,4,5,6,7,8,9,10)\n",
    "# CHOOSE_QUANTITIES =('mini_gap',       \n",
    "#                     'n_gs',        \n",
    "#                     'n_es',\n",
    "# #                     'dn_gs',            \n",
    "# #                     'dn_es',              \n",
    "# #                     'd_mini_gap',              \n",
    "#                     'p0',           \n",
    "# #                     'q_cap_gs',         \n",
    "# #                     'q_cap_es',             \n",
    "#                     'q_cap',             \n",
    "# #                     't_cap',            \n",
    "#                     'total_cap',           \n",
    "#                     'conductance')\n",
    "\n",
    "CHOOSE_QUANTITIES =('q_cap', \n",
    "                    'total_cap',\n",
    "                    'conductance',\n",
    "                    'mini_gap',\n",
    "                    'n_gs',        \n",
    "                    'n_es', \n",
    "                    'p0'          \n",
    "                    )"
   ]
  },
  {
   "cell_type": "code",
   "execution_count": 4,
   "metadata": {},
   "outputs": [],
   "source": [
    "PARAMETERS = np.loadtxt(PARAMETER_PATH, skiprows = 1, delimiter = ',')\n",
    "OPTIONS = [EXPERIMENTAL_BOOL, LEGEND, X_LABEL, Y_LABEL, X_COMMON, Y_COMMON, SAVE, FORMAT]\n",
    "plotter = helper.initilize(NRG_PATH,EXPERIMENTAL_PATH)"
   ]
  },
  {
   "cell_type": "code",
   "execution_count": 5,
   "metadata": {},
   "outputs": [
    {
     "ename": "TypeError",
     "evalue": "'tuple' object is not callable",
     "output_type": "error",
     "traceback": [
      "\u001b[1;31m---------------------------------------------------------------------------\u001b[0m",
      "\u001b[1;31mTypeError\u001b[0m                                 Traceback (most recent call last)",
      "Input \u001b[1;32mIn [5]\u001b[0m, in \u001b[0;36m<module>\u001b[1;34m\u001b[0m\n\u001b[1;32m----> 1\u001b[0m figure \u001b[38;5;241m=\u001b[39m \u001b[43mplotter\u001b[49m\u001b[43m(\u001b[49m\u001b[43mPARAMETERS\u001b[49m\u001b[43m,\u001b[49m\u001b[43mCHOOSE_DATA_SETS\u001b[49m\u001b[43m,\u001b[49m\u001b[43mCHOOSE_QUANTITIES\u001b[49m\u001b[43m,\u001b[49m\u001b[43mOPTIONS\u001b[49m\u001b[43m)\u001b[49m\n",
      "\u001b[1;31mTypeError\u001b[0m: 'tuple' object is not callable"
     ]
    }
   ],
   "source": [
    "figure = plotter(PARAMETERS,CHOOSE_DATA_SETS,CHOOSE_QUANTITIES,OPTIONS)"
   ]
  },
  {
   "cell_type": "code",
   "execution_count": null,
   "metadata": {},
   "outputs": [],
   "source": [
    "# LOCAL_PARAMETERS = PARAMETERS[np.array(CHOOSE_DATA_SETS)][:,np.array([1,2])]\n",
    "# GLOBAL_PARAMETERS = PARAMETERS[0,np.array([-4,-3,-2,-1])]"
   ]
  }
 ],
 "metadata": {
  "interpreter": {
   "hash": "4b7906d0e6d9ab4a3c84b3fb6b823b0d60fdeeb04660fd42eec21a83604d63ff"
  },
  "kernelspec": {
   "display_name": "Python 3 (ipykernel)",
   "language": "python",
   "name": "python3"
  },
  "language_info": {
   "codemirror_mode": {
    "name": "ipython",
    "version": 3
   },
   "file_extension": ".py",
   "mimetype": "text/x-python",
   "name": "python",
   "nbconvert_exporter": "python",
   "pygments_lexer": "ipython3",
   "version": "3.9.10"
  },
  "latex_envs": {
   "LaTeX_envs_menu_present": true,
   "autoclose": false,
   "autocomplete": true,
   "bibliofile": "biblio.bib",
   "cite_by": "apalike",
   "current_citInitial": 1,
   "eqLabelWithNumbers": true,
   "eqNumInitial": 1,
   "hotkeys": {
    "equation": "Ctrl-E",
    "itemize": "Ctrl-I"
   },
   "labels_anchors": false,
   "latex_user_defs": false,
   "report_style_numbering": false,
   "user_envs_cfg": false
  }
 },
 "nbformat": 4,
 "nbformat_minor": 2
}
