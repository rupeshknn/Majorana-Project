{
 "cells": [
  {
   "cell_type": "code",
   "execution_count": 1,
   "id": "cacc8f44",
   "metadata": {},
   "outputs": [],
   "source": [
    "import matplotlib.pyplot as plt\n",
    "import numpy as np\n",
    "from scipy.constants import e, k\n",
    "from scipy.interpolate import interp1d\n",
    "import itertools\n",
    "k=1/1160"
   ]
  },
  {
   "cell_type": "markdown",
   "id": "5b618d5c",
   "metadata": {},
   "source": [
    "## $$ \\gamma  \\to \\Gamma \\frac{ e^{\\frac{\\epsilon _o}{\\text{kT}}}+\\text{N}}{e^{\\frac{\\epsilon _o}{\\text{kT}}}-1} \\ \\ \\ \\ \\ \\ \\ \\ \\          \\eta    \\to \\frac{\\gamma N}{4 \\text{kT} \\cosh ^2\\left(\\frac{\\epsilon _o}{2 \\text{kT}}\\right)} \\ \\ \\ \\ \\ \\ \\                          \\lambda \\to \\frac{e^{\\frac{\\epsilon _o}{\\text{kT}}}+1}{e^{\\frac{\\epsilon _o}{\\text{kT}}}+\\text{N}} $$   \n"
   ]
  },
  {
   "cell_type": "code",
   "execution_count": 2,
   "id": "9c48af0d",
   "metadata": {},
   "outputs": [],
   "source": [
    "def gamma(g0, v0, T, N):\n",
    "    numerator = np.exp(v0/(k*T)) + N\n",
    "    denominator = np.exp(v0/(k*T)) - 1\n",
    "    return g0*numerator/denominator\n",
    "\n",
    "def etta(g0, v0, T, N):\n",
    "    numerator = N*gamma(g0, v0, T, N)\n",
    "    denominator = 4*k*T*((np.cosh(v0/(2*k*T)))**2)\n",
    "    return numerator/denominator\n",
    "\n",
    "def llambda(v0, T, N):\n",
    "    numerator = np.exp(v0/(k*T)) + 1\n",
    "    denominator = np.exp(v0/(k*T)) + N\n",
    "    return numerator/denominator\n",
    "    "
   ]
  },
  {
   "cell_type": "markdown",
   "id": "c992be76",
   "metadata": {},
   "source": [
    "## $$ C = e^2 \\left(p_o \\left(\\text{dn}_g-\\text{dn}_e\\right)+\\text{dn}_e\\right)+\\frac{ e^2 \\eta  \\lambda ^2 \\text{ds}_{\\text{mg}} \\left(n_g-n_e\\right)}{\\gamma ^2+w^2} \\gamma $$\n",
    "\n",
    "$$ p_o = \\frac{e^{\\frac{\\epsilon _o}{\\text{kT}}}}{e^{\\frac{\\epsilon _o}{\\text{kT}}}+\\text{nN}} $$"
   ]
  },
  {
   "cell_type": "markdown",
   "id": "3ef1295c",
   "metadata": {},
   "source": [
    "## $$\\frac{1}{R} = \\frac{e^2 \\eta  \\lambda ^2 \\text{ds}_{\\text{mg}} \\left(n_g-n_e\\right)}{\\gamma ^2+w^2} w^2$$"
   ]
  },
  {
   "cell_type": "code",
   "execution_count": 3,
   "id": "36ef44bc",
   "metadata": {},
   "outputs": [],
   "source": [
    "def p0(smg, T, N):\n",
    "    numerator = np.exp(smg/(k*T))\n",
    "    denominator = np.exp(smg/(k*T)) + N\n",
    "    return numerator/denominator\n",
    "\n",
    "def q_capacitance(smg, T, N, dne, dng):\n",
    "    return (e**2) * (p0(smg, T, N)*(dng - dne) + dne)\n",
    "\n",
    "def tunnel_capacitance(g0, smg, dsmg, T, N, ne, ng, w):\n",
    "    numerator = (e**2)*etta(g0, smg, T, N)*(llambda(smg, T, N)**2)*dsmg*(ng - ne)*gamma(g0, smg, T, N)\n",
    "    denominator = gamma(g0, smg, T, N)**2 + w**2\n",
    "    return numerator/denominator\n",
    "\n",
    "def total_capacitance(g0, smg, dsmg, T, N, ne, ng, dne, dng, w):\n",
    "    return tunnel_capacitance(g0, smg, dsmg, T, N, ne, ng, w) + q_capacitance(smg, T, N, dne, dng)\n",
    "\n",
    "def I_resistance(g0, smg, dsmg, T, N, ne, ng, w):\n",
    "    numerator = (e**2)*etta(g0, smg, T, N)*(llambda(smg, T, N)**2)*dsmg*(ng - ne)*(w**2)\n",
    "    denominator = gamma(g0, smg, T, N)**2 + w**2\n",
    "    return numerator/denominator\n",
    "\n"
   ]
  },
  {
   "cell_type": "code",
   "execution_count": 4,
   "id": "27adff3a",
   "metadata": {},
   "outputs": [],
   "source": [
    "# p0(0.1,100,10)\n",
    "# q_capacitance(0.1,100,10,0.1,0.1)\n",
    "# tunnel_capacitance(1e4,0.1,0.01,100,10,0.1,0.12,1e6)\n",
    "# total_capacitance(1e4,0.1,0.01,100,10,0.1,0.12,0.01,0.02,1e6)\n",
    "# I_resistance(1e4,0.1,0.01,100,10,0.1,0.12,1e6)"
   ]
  },
  {
   "cell_type": "code",
   "execution_count": 5,
   "id": "ce0d376c",
   "metadata": {},
   "outputs": [],
   "source": [
    "def capacitance_data(gammaa,v0,g0,T,N,w,U=0.333):\n",
    "\n",
    "    op1 = np.genfromtxt(f\"f1web.ijs.si\\\\~zitko\\\\data\\\\chi\\\\U={U}\\\\U={U}_Gamma={gammaa}\\\\optical1.dat\") # smg\n",
    "\n",
    "    chi1 = np.genfromtxt(f\"f1web.ijs.si\\\\~zitko\\\\data\\\\chi\\\\U={U}\\\\U={U}_Gamma={gammaa}\\\\chi1.dat\") # dng\n",
    "    n1 = np.genfromtxt(f\"f1web.ijs.si\\\\~zitko\\\\data\\\\chi\\\\U={U}\\\\U={U}_Gamma={gammaa}\\\\n1.dat\") # ng\n",
    "\n",
    "    chi2 = np.genfromtxt(f\"f1web.ijs.si\\\\~zitko\\\\data\\\\chi\\\\U={U}\\\\U={U}_Gamma={gammaa}\\\\chi2.dat\") # dne\n",
    "    n2 = np.genfromtxt(f\"f1web.ijs.si\\\\~zitko\\\\data\\\\chi\\\\U={U}\\\\U={U}_Gamma={gammaa}\\\\n2.dat\") # ne\n",
    "\n",
    "\n",
    "    s_mg_f = interp1d(op1[:,0],op1[:,1])\n",
    "    ds_mg_f = interp1d(op1[:,0],np.gradient(op1[:,1],-0.01*U))\n",
    "\n",
    "    n_g_f = interp1d(n1[:,0],n1[:,1])\n",
    "    chi_g_f = interp1d(chi1[:,0],chi1[:,1])\n",
    "    n_e_f = interp1d(n2[:,0],n2[:,1])\n",
    "    chi_e_f = interp1d(chi2[:,0],chi2[:,1])\n",
    "    \n",
    "\n",
    "    s_mg = s_mg_f(v0)\n",
    "    ds_mg = ds_mg_f(v0)\n",
    "\n",
    "    n_g = n_g_f(v0)\n",
    "    dn_g = chi_g_f(v0)\n",
    "    n_e = n_e_f(v0)\n",
    "    dn_e = chi_e_f(v0)\n",
    "    \n",
    "    return total_capacitance(g0, s_mg, ds_mg, T, N, n_e, n_g, dn_e, dn_g, w)"
   ]
  },
  {
   "cell_type": "code",
   "execution_count": 6,
   "id": "4884b9b6",
   "metadata": {},
   "outputs": [],
   "source": [
    "def capacitance_data0(gammaa,v0,g0,T,N,w,U=0.333):\n",
    "\n",
    "    op1 = np.genfromtxt(f\"f1web.ijs.si\\\\~zitko\\\\data\\\\chi\\\\U={U}\\\\U={U}_Gamma={gammaa}\\\\optical1.dat\") # smg\n",
    "\n",
    "    chi1 = np.genfromtxt(f\"f1web.ijs.si\\\\~zitko\\\\data\\\\chi\\\\U={U}\\\\U={U}_Gamma={gammaa}\\\\chi1.dat\") # dng\n",
    "    n1 = np.genfromtxt(f\"f1web.ijs.si\\\\~zitko\\\\data\\\\chi\\\\U={U}\\\\U={U}_Gamma={gammaa}\\\\n1.dat\") # ng\n",
    "\n",
    "    chi2 = np.genfromtxt(f\"f1web.ijs.si\\\\~zitko\\\\data\\\\chi\\\\U={U}\\\\U={U}_Gamma={gammaa}\\\\chi2.dat\") # dne\n",
    "    n2 = np.genfromtxt(f\"f1web.ijs.si\\\\~zitko\\\\data\\\\chi\\\\U={U}\\\\U={U}_Gamma={gammaa}\\\\n2.dat\") # ne\n",
    "\n",
    "\n",
    "    s_mg_f = interp1d(op1[:,0],op1[:,1])\n",
    "    ds_mg_f = interp1d(op1[:,0],np.gradient(op1[:,1],-0.01*U))\n",
    "\n",
    "    n_g_f = interp1d(n1[:,0],n1[:,1])\n",
    "    chi_g_f = interp1d(chi1[:,0],chi1[:,1])\n",
    "    n_e_f = interp1d(n2[:,0],n2[:,1])\n",
    "    chi_e_f = interp1d(chi2[:,0],chi2[:,1])\n",
    "    \n",
    "\n",
    "    s_mg = s_mg_f(v0)\n",
    "    ds_mg = ds_mg_f(v0)\n",
    "\n",
    "    n_g = n_g_f(v0)\n",
    "    dn_g = chi_g_f(v0)\n",
    "    n_e = n_e_f(v0)\n",
    "    dn_e = 0 #chi_e_f(v0)\n",
    "    \n",
    "    return total_capacitance(g0, s_mg, ds_mg, T, N, n_e, n_g, dn_e, dn_g, w)"
   ]
  },
  {
   "cell_type": "code",
   "execution_count": 7,
   "id": "308e9bdf",
   "metadata": {},
   "outputs": [
    {
     "data": {
      "text/plain": [
       "1.6413120499424118e-38"
      ]
     },
     "execution_count": 7,
     "metadata": {},
     "output_type": "execute_result"
    }
   ],
   "source": [
    "capacitance_data(0.035,0.3,1e6,40,10,1e7)"
   ]
  },
  {
   "cell_type": "code",
   "execution_count": 57,
   "id": "71a4a6c0",
   "metadata": {},
   "outputs": [],
   "source": [
    "def res_data(gammaa,v0,g0,T,N,w,U=0.333):\n",
    "\n",
    "    op1 = np.genfromtxt(f\"f1web.ijs.si\\\\~zitko\\\\data\\\\chi\\\\U={U}\\\\U={U}_Gamma={gammaa}\\\\optical1.dat\") # smg\n",
    "\n",
    "    # chi1 = np.genfromtxt(f\"f1web.ijs.si\\\\~zitko\\\\data\\\\chi\\\\U={U}\\\\U={U}_Gamma={gammaa}\\\\chi1.dat\") # dng\n",
    "    n1 = np.genfromtxt(f\"f1web.ijs.si\\\\~zitko\\\\data\\\\chi\\\\U={U}\\\\U={U}_Gamma={gammaa}\\\\n1.dat\") # ng\n",
    "\n",
    "    # chi2 = np.genfromtxt(f\"f1web.ijs.si\\\\~zitko\\\\data\\\\chi\\\\U={U}\\\\U={U}_Gamma={gammaa}\\\\chi2.dat\") # dne\n",
    "    n2 = np.genfromtxt(f\"f1web.ijs.si\\\\~zitko\\\\data\\\\chi\\\\U={U}\\\\U={U}_Gamma={gammaa}\\\\n2.dat\") # ne\n",
    "\n",
    "\n",
    "    s_mg_f = interp1d(op1[:,0],op1[:,1])\n",
    "    ds_mg_f = interp1d(op1[:,0],np.gradient(op1[:,1],0.01*U))\n",
    "\n",
    "    n_g_f = interp1d(n1[:,0],n1[:,1])\n",
    "    # chi_g_f = interp1d(chi1[:,0],chi1[:,1])\n",
    "    n_e_f = interp1d(n2[:,0],n2[:,1])\n",
    "    # chi_e_f = interp1d(chi2[:,0],chi2[:,1])\n",
    "    \n",
    "\n",
    "    s_mg = s_mg_f(v0)\n",
    "    ds_mg = ds_mg_f(v0)\n",
    "\n",
    "    n_g = n_g_f(v0)\n",
    "    # dn_g = chi_g_f(v0)\n",
    "    n_e = n_e_f(v0)\n",
    "    # dn_e = chi_e_f(v0)\n",
    "    \n",
    "    return I_resistance(g0, s_mg, ds_mg, T, N, n_e, n_g, w)"
   ]
  },
  {
   "cell_type": "code",
   "execution_count": 58,
   "id": "ba76fd2e",
   "metadata": {},
   "outputs": [
    {
     "data": {
      "text/plain": [
       "1.4268525224800994e-46"
      ]
     },
     "execution_count": 58,
     "metadata": {},
     "output_type": "execute_result"
    }
   ],
   "source": [
    "res_data(0.035,0.3,1e6,40,10,1e7)"
   ]
  },
  {
   "cell_type": "code",
   "execution_count": 10,
   "id": "3d70fb0a",
   "metadata": {},
   "outputs": [],
   "source": [
    "def caps_exp(dset):\n",
    "    text = f\"f1web.ijs.si\\\\~zitko\\\\data\\\\chi\\\\experimental_data\\\\dataset_{dset}.csv\"\n",
    "    dataset = np.loadtxt(text, skiprows=1,delimiter=',')[:,0:2]\n",
    "    exp_caps12 = dataset[:,1]\n",
    "    vex = dataset[:,0]*1e3\n",
    "    filter_arry = (vex<0.6)*(-0.6<vex)\n",
    "    exp_cap1 = exp_caps12[filter_arry]\n",
    "    vex1 = vex[filter_arry]\n",
    "    return vex1, exp_cap1"
   ]
  },
  {
   "cell_type": "code",
   "execution_count": 25,
   "id": "8410c879",
   "metadata": {},
   "outputs": [],
   "source": [
    "# gammaa = '0.035'\n",
    "\n",
    "def capplot(gammaa,g0vals,Tvals,Nvals,save=False,format='png'):\n",
    "    params = list(itertools.product(g0vals,Tvals,Nvals))\n",
    "\n",
    "    fig, axes = plt.subplots(int(np.ceil(len(params)/4)),4,figsize=(20,4*int(np.ceil(len(params)/4))))\n",
    "    axes = axes.flatten()\n",
    "    idx = 0\n",
    "    v0 = np.arange(-0.6,0.6,.01)\n",
    "    w = 268*1e6\n",
    "    for parameter in params:\n",
    "        g0, T, N = parameter\n",
    "\n",
    "        # cvalues = capacitance_data(gammaa,1+2*v0,g0,T,N,w)*1e15\n",
    "        cvalues0 = capacitance_data0(gammaa,1+2*v0,g0,T,N,w)/(e*e)\n",
    "\n",
    "        label = f'$\\Gamma^0 = 10^{({int(np.log10(g0))})}$ \\n T = {T} \\n N = $10^{({int(np.log10(N))})}$'\n",
    "        # axes[idx].plot(v0,cvalues,label=label)\n",
    "        axes[idx].plot(v0,cvalues0,label=label)\n",
    "        axes[idx].set_ylabel(f'$ C (fF) $')\n",
    "        axes[idx].set_xlabel(f'$ c_1 \\epsilon_o + c_2 $')\n",
    "        # axes[idx].set_title(label)\n",
    "        axes[idx].legend(fontsize=12)\n",
    "        idx = idx + 1\n",
    "\n",
    "    parameter_string = f\"\\\n",
    "            $U          = 0.333 $\\\n",
    "            $\\\\Gamma_t  = {gammaa} $\\\n",
    "            $ dn_e      = 0 $\\\n",
    "            $\\\\omega    = 268 MHz $\"\n",
    "\n",
    "    fig.text(\n",
    "        0.5, 0.92, parameter_string, ha='center', va='center', wrap=False,\n",
    "        bbox=dict(ec='black', alpha=1, color='azure'), fontsize=12)\n",
    "    if save:\n",
    "        plt.savefig(f\"plots2{gammaa}.{format}\", format=format)\n",
    "\n",
    "\n"
   ]
  },
  {
   "cell_type": "code",
   "execution_count": 27,
   "id": "c3091074",
   "metadata": {},
   "outputs": [
    {
     "data": {
      "image/png": "[encoded data removed]",
      "text/plain": [
       "<Figure size 1440x288 with 4 Axes>"
      ]
     },
     "metadata": {
      "needs_background": "light"
     },
     "output_type": "display_data"
    }
   ],
   "source": [
    "# rok_fit = [10.67, 1.088, 35.67, 0.01932]\n",
    "#     Ne, scalex, scaley, T = rok_fit\n",
    "#     T = T/k\n",
    "#     N = 10**Ne\n",
    "# capplot(gammaa,g0vals,Tvals,Nvals,save=False,format='png'):\n",
    "capplot('0.005',[1e10,1e9,1e8,1e7],[0.01932/k],[10**10.67],save=False,format='pdf')\n"
   ]
  },
  {
   "cell_type": "code",
   "execution_count": 61,
   "id": "64d11d26",
   "metadata": {},
   "outputs": [],
   "source": [
    "# gammaa = '0.035'\n",
    "%matplotlib widget\n",
    "def ressplot(gammaa,g0vals,Tvals,Nvals,save=False,format='png'):\n",
    "    params = list(itertools.product(gammaa,g0vals,Tvals,Nvals))\n",
    "\n",
    "    fig, axes = plt.subplots(int(np.ceil(len(params)/4)),4,figsize=(20,4*int(np.ceil(len(params)/4))))\n",
    "    axes = axes.flatten()\n",
    "    idx = 0\n",
    "    v0 = np.arange(-0.6,0.6,.01)\n",
    "    w = 268*1e6\n",
    "    for parameter in params:\n",
    "        gammat, g0, T, N = parameter\n",
    "\n",
    "        # cvalues = capacitance_data(gammaa,1+2*v0,g0,T,N,w)*1e15\n",
    "        \n",
    "        cvalues0 = res_data(gammat,1+2*v0,g0,T,N,w)/(e*e)\n",
    "\n",
    "        label = f'$\\Gamma^0 = 10^{({int(np.log10(g0))})}$' # \\n N = $10^{({int(np.log10(N))})}$'\n",
    "        # axes[idx].plot(v0,cvalues,label=label)\n",
    "        axes[idx].plot(v0,cvalues0,label=label)\n",
    "        axes[idx].set_ylabel(f'$ 1/R $')\n",
    "        axes[idx].set_xlabel(f'$ \\epsilon_o $')\n",
    "        # axes[idx].set_title(label)\n",
    "        axes[idx].legend(fontsize=12)\n",
    "        idx = idx + 1\n",
    "\n",
    "    parameter_string = f\"\\\n",
    "            $U          = 0.333 $\\\n",
    "            $\\\\Gamma_t  = {gammat} $\\\n",
    "            $ dn_e      = 0 $\\\n",
    "            $ T =       {T} $\\\n",
    "            $ log_{({10})}(N) =    {np.log10(N)}$\\\n",
    "            $\\\\omega    = 268 MHz $\"\n",
    "\n",
    "    fig.text(\n",
    "        0.5, 0.97, parameter_string, ha='center', va='center', wrap=False,\n",
    "        bbox=dict(ec='black', alpha=1, color='azure'), fontsize=12)\n",
    "    if save:\n",
    "        plt.savefig(f\"plots2{gammaa}.{format}\", format=format)\n",
    "\n",
    "\n"
   ]
  },
  {
   "cell_type": "code",
   "execution_count": 63,
   "id": "feaa8888",
   "metadata": {},
   "outputs": [
    {
     "data": {
      "application/vnd.jupyter.widget-view+json": {
       "model_id": "2fef2bdd0b0e4d3ca16aece6232148e0",
       "version_major": 2,
       "version_minor": 0
      },
      "text/plain": [
       "Canvas(toolbar=Toolbar(toolitems=[('Home', 'Reset original view', 'home', 'home'), ('Back', 'Back to previous …"
      ]
     },
     "metadata": {},
     "output_type": "display_data"
    }
   ],
   "source": [
    "ressplot(['0.005','0.080','0.160'],[1e10,1e9,1e8,1e7],[0.01932/k],[10**10.67],save=False,format='pdf')"
   ]
  },
  {
   "cell_type": "code",
   "execution_count": 29,
   "id": "9e506103",
   "metadata": {},
   "outputs": [],
   "source": [
    "# gammaa = '0.035'\n",
    "\n",
    "def resplot(gammaa,g0vals,Tvals,Nvals,save=False,format='png'):\n",
    "    params = list(itertools.product(g0vals,Tvals,Nvals))\n",
    "\n",
    "    fig, axes = plt.subplots(int(np.ceil(len(params)/4)),4,figsize=(20,4*int(np.ceil(len(params)/4))))\n",
    "    axes = axes.flatten()\n",
    "    idx = 0\n",
    "    v0 = np.arange(-0.6,0.6,.01)\n",
    "    w = 268*1e6\n",
    "    for parameter in params:\n",
    "        g0, T, N = parameter\n",
    "\n",
    "        cvalues = res_data(gammaa,1+2*v0,g0,T,N,w)\n",
    "\n",
    "        label = f'$\\Gamma^0 = 10^{(int(np.log10(g0)))}$ \\n T = {T} \\n N = $10^{(int(np.log10(N)))}$'\n",
    "        axes[idx].plot(v0,cvalues,label=label)\n",
    "        axes[idx].set_ylabel(f'$ \\\\frac{{1}}{{R}} \\Omega $')\n",
    "        axes[idx].set_xlabel(f'$ \\epsilon_o $')\n",
    "        # axes[idx].set_title(label)\n",
    "        axes[idx].legend(fontsize=12)\n",
    "        idx = idx + 1\n",
    "\n",
    "    parameter_string = f\"\\\n",
    "            $U          = 0.333 $\\\n",
    "            $\\\\Gamma_t      = {gammaa} $\\\n",
    "            $\\\\omega      = 268 MHz $\"\n",
    "\n",
    "    fig.text(\n",
    "        0.5, 0.92, parameter_string, ha='center', va='center', wrap=False,\n",
    "        bbox=dict(ec='black', alpha=1, color='azure'), fontsize=12)\n",
    "    if save:\n",
    "        plt.savefig(f\"plotsres{gammaa}.{format}\", format=format)\n",
    "\n",
    "\n"
   ]
  },
  {
   "cell_type": "code",
   "execution_count": 30,
   "id": "906e86d3",
   "metadata": {},
   "outputs": [
    {
     "data": {
      "image/png": "[encoded data removed]",
      "text/plain": [
       "<Figure size 1440x288 with 4 Axes>"
      ]
     },
     "metadata": {
      "needs_background": "light"
     },
     "output_type": "display_data"
    }
   ],
   "source": [
    "resplot('0.005',[1e10,1e9,1e8,1e7],[0.01932/k],[10**10.67],save=False,format='pdf')\n"
   ]
  },
  {
   "cell_type": "code",
   "execution_count": null,
   "id": "b3a959a1",
   "metadata": {},
   "outputs": [],
   "source": [
    "def symplot(g0): \n",
    "    sets = [\"05\", \"06\", \"07\", \"08\", \"09\", \"10\", \"11\", \"12\", \"13\"]\n",
    "    gammas = [\"0.0425\", \"0.050\", \"0.03125\", \"0.02875\", \"0.02375\", \"0.020\",\"0.015\", \"0.01125\", \"0.00875\"]\n",
    "    rok_fit = [10.67, 1.088, 35.67, 0.01932]\n",
    "    Ne, scalex, scaley, T = rok_fit\n",
    "    T = T/k\n",
    "    N = 10**Ne\n",
    "    g0 = 1e8\n",
    "    vx = np.arange(-0.6,0.6,.01)\n",
    "    v0 = 1 + (scalex*np.arange(-0.6,0.6,.01))\n",
    "    w = 268*1e6\n",
    "\n",
    "    fig = plt.figure(constrained_layout=True,figsize=(20,45))\n",
    "    # fig.suptitle(f'U = 0.333, $\\Gamma_0$ = {g0:.0e}',fontsize=14)\n",
    "\n",
    "    fig.suptitle(f'U = 0.333, $\\\\Gamma_0$ = {g0:.0e} Hz, Sym, N=10^{Ne}, Scalex = {scalex}, Scaley = {scaley}, T = {T} mK')\n",
    "\n",
    "    # create 3x1 subfigs\n",
    "    subfigs = fig.subfigures(nrows=9, ncols=1)\n",
    "\n",
    "    for dset, gamma_t, subfig in zip(sets, gammas,subfigs):\n",
    "        subfig.suptitle(f'$\\\\Gamma_t$ = {gamma_t}  dataset = {dset}')\n",
    "        axis = subfig.subplots(nrows=1, ncols=4)\n",
    "        op1 = np.genfromtxt(f\"f1web.ijs.si\\\\~zitko\\\\data\\\\chi\\\\U=0.333\\\\U=0.333_Gamma={gamma_t}\\\\optical1.dat\")\n",
    "        chi1 = np.genfromtxt(f\"f1web.ijs.si\\\\~zitko\\\\data\\\\chi\\\\U=0.333\\\\U=0.333_Gamma={gamma_t}\\\\chi1.dat\")\n",
    "        n1 = np.genfromtxt(f\"f1web.ijs.si\\\\~zitko\\\\data\\\\chi\\\\U=0.333\\\\U=0.333_Gamma={gamma_t}\\\\n1.dat\")\n",
    "        n2 = np.genfromtxt(f\"f1web.ijs.si\\\\~zitko\\\\data\\\\chi\\\\U=0.333\\\\U=0.333_Gamma={gamma_t}\\\\n1.dat\")\n",
    "        vex, exp_caps = caps_exp(dset)\n",
    "\n",
    "        gap = interp1d(op1[:,0],op1[:,1])\n",
    "        dgap = interp1d(op1[:,0],np.gradient(op1[:,1],0.01))\n",
    "        chi = interp1d(chi1[:,0],chi1[:,1])\n",
    "        nng = interp1d(n1[:,0],n1[:,1])\n",
    "\n",
    "\n",
    "\n",
    "        ng = nng(v0)\n",
    "        smg = gap(v0)\n",
    "        dsmg = dgap(v0)\n",
    "        dng = chi(v0)\n",
    "        model_cap = scaley*extd_capacitance(g0, smg, T, N, w, ng, dsmg, dng)/(e*e)\n",
    "        rok_cap = scaley*rok_capacitance(g0, smg, T, N, w, ng, dsmg, dng)/(e*e)\n",
    "        exp_caps = 1e18*(exp_caps + exp_caps[::-1])/2\n",
    "\n",
    "        axis[0].plot(vex,exp_caps,label='experiment')\n",
    "        axis[1].plot(vex,exp_caps,label='experiment')\n",
    "        axis[0].plot(vx,rok_cap,label='Rok')\n",
    "        axis[1].plot(vx,model_cap,label='esterli N States')\n",
    "        axis[2].plot(vx,smg, label = f'$\\\\delta / \\\\Delta $')\n",
    "        axis[3].plot(vx,ng, label = f'$n_g$')\n",
    "\n",
    "        axis[0].set_ylim(-5,350)\n",
    "        axis[1].set_ylim(-5,350)\n",
    "        axis[2].set_ylim(0.0,1.4)\n",
    "        axis[3].set_ylim(0,2.1)\n",
    "\n",
    "        axis[0].set_ylabel(f'$S_y$ Capacitance, (aF)')\n",
    "        # axis[1].set_ylabel(f'$S_y$ Capacitance, (F/e)')\n",
    "\n",
    "\n",
    "        for haxis in axis:\n",
    "            haxis.legend()\n",
    "            haxis.set_xlim(-0.63,0.63)\n",
    "            haxis.set_xlabel(f'$\\epsilon_0 (mV) $')\n",
    "\n",
    "\n",
    "    # ptext = f'U = 0.333, $\\\\Gamma_0$ = {g0:.0e}, Sym, N={Ne}, Scalex = {scalex}, Scaley = {scaley}'\n",
    "    # fig.text(0.24, 0.999, ptext,ha='center', va='center', wrap=False, \n",
    "    #     bbox=dict(ec='black', alpha=1, color='azure'), fontsize=15)\n",
    "\n",
    "    g0log = int(np.log10(g0))\n",
    "    plt.savefig(f\"Gamma0 = 10^{g0log}.{'pdf'}\", format='pdf')"
   ]
  },
  {
   "cell_type": "code",
   "execution_count": null,
   "id": "734afdff",
   "metadata": {},
   "outputs": [],
   "source": [
    "for g00 in [1e5,1e6,1e7,1e8]:\n",
    "    symplot(g00)"
   ]
  },
  {
   "cell_type": "code",
   "execution_count": 64,
   "id": "a000e51a",
   "metadata": {},
   "outputs": [
    {
     "data": {
      "text/plain": [
       "<matplotlib.legend.Legend at 0x29303548f70>"
      ]
     },
     "execution_count": 64,
     "metadata": {},
     "output_type": "execute_result"
    },
    {
     "data": {
      "image/png": "[encoded data removed]",
      "text/plain": [
       "<Figure size 432x288 with 1 Axes>"
      ]
     },
     "metadata": {
      "needs_background": "light"
     },
     "output_type": "display_data"
    }
   ],
   "source": [
    "gammaa = '0.035'\n",
    "\n",
    "n1 = np.genfromtxt(f\"f1web.ijs.si\\\\~zitko\\\\data\\\\chi\\\\U=0.333\\\\U=0.333_Gamma={gammaa}\\\\n1.dat\") # ng\n",
    "chi1 = np.genfromtxt(f\"f1web.ijs.si\\\\~zitko\\\\data\\\\chi\\\\U=0.333\\\\U=0.333_Gamma={gammaa}\\\\chi1.dat\") # chi1\n",
    "dn1 = np.gradient(n1[:,1],-0.01*0.333)\n",
    "\n",
    "\n",
    "plt.plot(chi1[:,0],chi1[:,1],label='chi1')\n",
    "plt.plot(n1[:,0],dn1,label='dn1')\n",
    "plt.legend()"
   ]
  },
  {
   "cell_type": "code",
   "execution_count": null,
   "id": "d9a95097",
   "metadata": {},
   "outputs": [],
   "source": []
  }
 ],
 "metadata": {
  "interpreter": {
   "hash": "4b7906d0e6d9ab4a3c84b3fb6b823b0d60fdeeb04660fd42eec21a83604d63ff"
  },
  "kernelspec": {
   "display_name": "Python 3 (ipykernel)",
   "language": "python",
   "name": "python3"
  },
  "language_info": {
   "codemirror_mode": {
    "name": "ipython",
    "version": 3
   },
   "file_extension": ".py",
   "mimetype": "text/x-python",
   "name": "python",
   "nbconvert_exporter": "python",
   "pygments_lexer": "ipython3",
   "version": "3.9.6"
  },
  "latex_envs": {
   "LaTeX_envs_menu_present": true,
   "autoclose": false,
   "autocomplete": true,
   "bibliofile": "biblio.bib",
   "cite_by": "apalike",
   "current_citInitial": 1,
   "eqLabelWithNumbers": true,
   "eqNumInitial": 1,
   "hotkeys": {
    "equation": "Ctrl-E",
    "itemize": "Ctrl-I"
   },
   "labels_anchors": false,
   "latex_user_defs": false,
   "report_style_numbering": false,
   "user_envs_cfg": false
  }
 },
 "nbformat": 4,
 "nbformat_minor": 5
}
