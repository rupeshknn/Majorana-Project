{
 "cells": [
  {
   "cell_type": "code",
   "execution_count": 1,
   "metadata": {},
   "outputs": [],
   "source": [
    "import numpy as np\n",
    "import matplotlib.pyplot as plt\n",
    "from numba import njit\n",
    "from scipy.optimize import curve_fit\n",
    "from scipy.constants import k\n",
    "from scipy.interpolate import interp1d\n",
    "import glob"
   ]
  },
  {
   "cell_type": "code",
   "execution_count": 2,
   "metadata": {},
   "outputs": [],
   "source": [
    "op1 = np.genfromtxt(r\"f1web.ijs.si\\~zitko\\data\\chi\\U=0.333\\U=0.333_Gamma=0.005\\optical1.dat\")\n",
    "chi1 = np.genfromtxt(r\"f1web.ijs.si\\~zitko\\data\\chi\\U=0.333\\U=0.333_Gamma=0.005\\chi1.dat\")"
   ]
  },
  {
   "cell_type": "code",
   "execution_count": null,
   "metadata": {},
   "outputs": [],
   "source": []
  }
 ],
 "metadata": {
  "interpreter": {
   "hash": "4b7906d0e6d9ab4a3c84b3fb6b823b0d60fdeeb04660fd42eec21a83604d63ff"
  },
  "kernelspec": {
   "display_name": "Python 3 (ipykernel)",
   "language": "python",
   "name": "python3"
  },
  "language_info": {
   "codemirror_mode": {
    "name": "ipython",
    "version": 3
   },
   "file_extension": ".py",
   "mimetype": "text/x-python",
   "name": "python",
   "nbconvert_exporter": "python",
   "pygments_lexer": "ipython3",
   "version": "3.9.6"
  }
 },
 "nbformat": 4,
 "nbformat_minor": 2
}
