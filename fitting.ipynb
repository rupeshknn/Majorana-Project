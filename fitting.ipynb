{
 "cells": [
  {
   "cell_type": "code",
   "execution_count": 1,
   "source": [
    "import numpy as np\r\n",
    "import matplotlib.pyplot as plt\r\n",
    "from numba import njit\r\n",
    "from scipy.optimize import curve_fit\r\n",
    "from scipy.constants import k\r\n",
    "from scipy.interpolate import interp1d\r\n",
    "import glob"
   ],
   "outputs": [],
   "metadata": {}
  },
  {
   "cell_type": "code",
   "execution_count": 2,
   "source": [
    "op1 = np.genfromtxt(r\"f1web.ijs.si\\~zitko\\data\\chi\\U=0.333\\U=0.333_Gamma=0.005\\optical1.dat\")\r\n",
    "chi1 = np.genfromtxt(r\"f1web.ijs.si\\~zitko\\data\\chi\\U=0.333\\U=0.333_Gamma=0.005\\chi1.dat\")"
   ],
   "outputs": [],
   "metadata": {}
  },
  {
   "cell_type": "code",
   "execution_count": null,
   "source": [],
   "outputs": [],
   "metadata": {}
  }
 ],
 "metadata": {
  "orig_nbformat": 4,
  "language_info": {
   "name": "python",
   "version": "3.9.6",
   "mimetype": "text/x-python",
   "codemirror_mode": {
    "name": "ipython",
    "version": 3
   },
   "pygments_lexer": "ipython3",
   "nbconvert_exporter": "python",
   "file_extension": ".py"
  },
  "kernelspec": {
   "name": "python3",
   "display_name": "Python 3.9.6 64-bit ('bourne': conda)"
  },
  "interpreter": {
   "hash": "4b7906d0e6d9ab4a3c84b3fb6b823b0d60fdeeb04660fd42eec21a83604d63ff"
  }
 },
 "nbformat": 4,
 "nbformat_minor": 2
}