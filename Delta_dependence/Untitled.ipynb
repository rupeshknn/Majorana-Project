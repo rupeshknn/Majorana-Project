{
 "cells": [
  {
   "cell_type": "code",
   "execution_count": 1,
   "id": "4cdd0de2",
   "metadata": {},
   "outputs": [],
   "source": [
    "# python stdlib\n",
    "import time\n",
    "import os\n",
    "from itertools import product\n",
    "\n",
    "# Scientific python libraries\n",
    "import numpy as np\n",
    "import scipy as sp\n",
    "import scipy.integrate as spyint\n",
    "from numba import njit\n",
    "import sympy as sm\n",
    "\n",
    "# Visualization\n",
    "import matplotlib.pyplot as plt\n",
    "\n"
   ]
  },
  {
   "cell_type": "code",
   "execution_count": 20,
   "id": "534d5a59",
   "metadata": {},
   "outputs": [
    {
     "name": "stdout",
     "output_type": "stream",
     "text": [
      "['data set' 'log_g0' 'Gamma_t' 'u' 'alpha' 'temperature' 'log_n']\n"
     ]
    }
   ],
   "source": [
    "parameters = np.loadtxt(\"parameter.csv\", skiprows = 1, delimiter = ',')\n",
    "print(np.loadtxt(\"parameter.csv\", delimiter = ',',dtype=object)[0,:])"
   ]
  },
  {
   "cell_type": "code",
   "execution_count": 23,
   "id": "77c0ad42",
   "metadata": {},
   "outputs": [],
   "source": [
    "data_sets = parameters[:,0]\n",
    "ln_gamma_0 = parameters[:,1]\n",
    "gamma_t = parameters[:,2]\n",
    "globals_p = parameters[0,3:]"
   ]
  },
  {
   "cell_type": "code",
   "execution_count": 52,
   "id": "0a05ebbc",
   "metadata": {},
   "outputs": [
    {
     "data": {
      "text/plain": [
       "'0.333'"
      ]
     },
     "execution_count": 52,
     "metadata": {},
     "output_type": "execute_result"
    }
   ],
   "source": [
    "udirs[0]"
   ]
  },
  {
   "cell_type": "code",
   "execution_count": 66,
   "id": "64a460be",
   "metadata": {},
   "outputs": [
    {
     "data": {
      "text/plain": [
       "{'0.333': ['Gamma=0.01',\n",
       "  'Gamma=0.02',\n",
       "  'Gamma=0.03',\n",
       "  'Gamma=0.04',\n",
       "  'Gamma=0.05',\n",
       "  'Gamma=0.06',\n",
       "  'Gamma=0.07'],\n",
       " '0.416': ['Gamma=0.01',\n",
       "  'Gamma=0.02',\n",
       "  'Gamma=0.03',\n",
       "  'Gamma=0.04',\n",
       "  'Gamma=0.05',\n",
       "  'Gamma=0.06',\n",
       "  'Gamma=0.07']}"
      ]
     },
     "execution_count": 66,
     "metadata": {},
     "output_type": "execute_result"
    }
   ],
   "source": [
    "udirs = [ x for x in os.listdir() if os.path.isdir(x) and x[0]=='U']\n",
    "gamdirs = {x[2:7]:[x1 for x1 in os.listdir(x) if os.path.isdir(x + '/' + x1)] for x in udirs}\n",
    "\n",
    "gamdirs"
   ]
  },
  {
   "cell_type": "code",
   "execution_count": null,
   "id": "bf6b9428",
   "metadata": {},
   "outputs": [],
   "source": []
  }
 ],
 "metadata": {
  "kernelspec": {
   "display_name": "Python 3 (ipykernel)",
   "language": "python",
   "name": "python3"
  },
  "language_info": {
   "codemirror_mode": {
    "name": "ipython",
    "version": 3
   },
   "file_extension": ".py",
   "mimetype": "text/x-python",
   "name": "python",
   "nbconvert_exporter": "python",
   "pygments_lexer": "ipython3",
   "version": "3.9.10"
  }
 },
 "nbformat": 4,
 "nbformat_minor": 5
}
